{
 "metadata": {
  "language_info": {
   "codemirror_mode": {
    "name": "ipython",
    "version": 3
   },
   "file_extension": ".py",
   "mimetype": "text/x-python",
   "name": "python",
   "nbconvert_exporter": "python",
   "pygments_lexer": "ipython3",
   "version": "3.8.5-final"
  },
  "orig_nbformat": 2,
  "kernelspec": {
   "name": "python3",
   "display_name": "Python 3",
   "language": "python"
  }
 },
 "nbformat": 4,
 "nbformat_minor": 2,
 "cells": [
  {
   "cell_type": "code",
   "execution_count": 58,
   "metadata": {},
   "outputs": [
    {
     "output_type": "stream",
     "name": "stdout",
     "text": [
      "testing.gbl is created!\n"
     ]
    }
   ],
   "source": [
    "args = {'begin':1522584000, \n",
    "        'end':1543665600, \n",
    "        'Parameters':'0.33  0.2    -0.1   0.02  2.0425e-6 0.02       0.5 0.10 0.0 99.0 3.0 0.75', \n",
    "        'rvr_path': 'turkey.rvr', \n",
    "        'prm_path': 'turkey.prm', \n",
    "        'initialCond_path':'initialconditions_20180401.dbc', \n",
    "        'rainfall_path':'unirain.ustr', \n",
    "        'evap_path':'evap_average.mon', \n",
    "        'output_path':'output.h5', \n",
    "        'scratch_path':'/nfsscratch/Users/gurbuz/tmp',\n",
    "        'dam_path':'test.dam',\n",
    "        'sav_path':'test.sav'\n",
    "        }\n",
    "\n",
    "f = GlobalFileCreator(args, model_type=254,)\n",
    "f.WriteGlobal('testing')"
   ]
  },
  {
   "cell_type": "code",
   "execution_count": 47,
   "metadata": {},
   "outputs": [],
   "source": [
    "aa = ['Time', 'LinkID', 'State0']"
   ]
  },
  {
   "cell_type": "code",
   "execution_count": 43,
   "metadata": {},
   "outputs": [],
   "source": [
    "aa = [s+'\\n' for s in aa]"
   ]
  },
  {
   "cell_type": "code",
   "execution_count": 45,
   "metadata": {},
   "outputs": [
    {
     "output_type": "execute_result",
     "data": {
      "text/plain": [
       "['Time\\n', 'LinkID\\n', 'State0\\n']"
      ]
     },
     "metadata": {},
     "execution_count": 45
    }
   ],
   "source": [
    "aa"
   ]
  },
  {
   "cell_type": "code",
   "execution_count": 51,
   "metadata": {},
   "outputs": [
    {
     "output_type": "execute_result",
     "data": {
      "text/plain": [
       "'Time\\nLinkID\\nState0'"
      ]
     },
     "metadata": {},
     "execution_count": 51
    }
   ],
   "source": [
    "'\\n'.join(aa[:])"
   ]
  },
  {
   "cell_type": "code",
   "execution_count": null,
   "metadata": {},
   "outputs": [],
   "source": []
  }
 ]
}