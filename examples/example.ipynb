{
 "cells": [
  {
   "cell_type": "code",
   "execution_count": 11,
   "metadata": {},
   "outputs": [],
   "source": [
    "import sys\n",
    "sys.path.insert(0, r'../')"
   ]
  },
  {
   "cell_type": "code",
   "execution_count": 12,
   "metadata": {},
   "outputs": [],
   "source": [
    "from src.hlm_helper import  GlobalFileCreator"
   ]
  },
  {
   "source": [
    "# Creating a Global file"
   ],
   "cell_type": "markdown",
   "metadata": {}
  },
  {
   "cell_type": "code",
   "execution_count": 13,
   "metadata": {},
   "outputs": [
    {
     "output_type": "stream",
     "name": "stdout",
     "text": [
      "testing_255.gbl is created!\n"
     ]
    }
   ],
   "source": [
    "args = {'begin':1522584000, \n",
    "        'end':1523318400, \n",
    "        'Parameters':'0.33  0.2    -0.1', \n",
    "        'rvr_path': 'turkey.rvr', \n",
    "        'prm_path': 'turkey.prm', \n",
    "        'initialCond_path':'initialconditions_20180401.dbc', \n",
    "        'rainfall_path':'unirain.ustr', \n",
    "        'evap_path':'evap_average.mon', \n",
    "        'output_path':'output.h5', \n",
    "        'scratch_path':'/nfsscratch/Users/gurbuz/tmp',\n",
    "        'dam_path':'test.dam',\n",
    "        'sav_path':'test.sav'\n",
    "        }\n",
    "\n",
    "f = GlobalFileCreator(args, model_type=255,out_resolution=15.0, component2print=['Time', 'LinkID', 'State0','State1'])\n",
    "f.WriteGlobal('testing_255')"
   ]
  },
  {
   "source": [
    "# Other tools"
   ],
   "cell_type": "markdown",
   "metadata": {}
  },
  {
   "cell_type": "code",
   "execution_count": 59,
   "metadata": {},
   "outputs": [],
   "source": [
    "## To do:"
   ]
  }
 ],
 "metadata": {
  "kernelspec": {
   "display_name": "Python 3",
   "language": "python",
   "name": "python3"
  },
  "language_info": {
   "codemirror_mode": {
    "name": "ipython",
    "version": 3
   },
   "file_extension": ".py",
   "mimetype": "text/x-python",
   "name": "python",
   "nbconvert_exporter": "python",
   "pygments_lexer": "ipython3",
   "version": "3.8.5-final"
  },
  "toc": {
   "base_numbering": 1,
   "nav_menu": {},
   "number_sections": true,
   "sideBar": true,
   "skip_h1_title": false,
   "title_cell": "Table of Contents",
   "title_sidebar": "Contents",
   "toc_cell": false,
   "toc_position": {},
   "toc_section_display": true,
   "toc_window_display": false
  }
 },
 "nbformat": 4,
 "nbformat_minor": 2
}